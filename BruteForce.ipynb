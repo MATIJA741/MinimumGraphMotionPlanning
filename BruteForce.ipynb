{
 "cells": [
  {
   "cell_type": "code",
   "execution_count": 52,
   "id": "197d1f43-7206-4867-9f32-0a156877f3dd",
   "metadata": {},
   "outputs": [],
   "source": [
    "import networkx as nx\n",
    "import math\n",
    "import random\n",
    "import numpy as np\n",
    "import copy\n",
    "from datetime import datetime\n",
    "from matplotlib import pyplot as plt\n",
    "import import_ipynb\n",
    "import GraphGenerator as gg"
   ]
  },
  {
   "cell_type": "code",
   "execution_count": 53,
   "id": "1f51885b-67c5-4702-9d8f-e71fd5fcec6d",
   "metadata": {},
   "outputs": [],
   "source": [
    "def move_obstacle(g, node, start_pos, goal_pos, obstacles, stuck_num):    \n",
    "    ## segFault\n",
    "    if stuck_num == 50:\n",
    "        return False, node\n",
    "    \n",
    "    possible_moves = sorted([node for node in g[node] if node != goal_pos and node != start_pos])\n",
    "    # #recursion\n",
    "    if len(possible_moves) == 0:\n",
    "        return False, node\n",
    "    \n",
    "    chosen_move = random.sample(possible_moves, k=1)[0]\n",
    "    if(chosen_move in obstacles):\n",
    "        #recursion\n",
    "        return move_obstacle(g, chosen_move, start_pos, goal_pos, obstacles, stuck_num+1)\n",
    "        \n",
    "    \n",
    "    obstacles.remove(node)\n",
    "    obstacles.append(chosen_move)\n",
    "\n",
    "    # print(f'Obstacle moves: {node} -> {chosen_move}')\n",
    "    return True, chosen_move"
   ]
  },
  {
   "cell_type": "code",
   "execution_count": 54,
   "id": "50b58ea9-fa38-4200-9f36-da65b1d57af9",
   "metadata": {},
   "outputs": [],
   "source": [
    "def move_robot(g, u, obstacles):\n",
    "    neighbors = [node for node in g[u] if node not in obstacles]\n",
    "    if len(neighbors) == 0:\n",
    "        return u\n",
    "\n",
    "    chosen_move = random.sample(neighbors, k=1)[0]\n",
    "    # print(f'Robot moves: {u} -> {chosen_move}')\n",
    "    return chosen_move"
   ]
  },
  {
   "cell_type": "code",
   "execution_count": 1,
   "id": "c8bfda25-36b5-4fab-89f9-df1a0ae31ccf",
   "metadata": {},
   "outputs": [],
   "source": [
    "def find_path(g, start_pos, goal_pos, obstacles, num_iterations):\n",
    "    start_time = datetime.now()\n",
    "    robot_move_prob = 0.8\n",
    "    min_length = float('inf')\n",
    "    min_iteration = float('inf')\n",
    "    obstacles_start = copy.deepcopy(obstacles)\n",
    "\n",
    "    best_moves = []\n",
    "    length_per_iteration = []\n",
    "    \n",
    "    for iteration in range(num_iterations):\n",
    "        u = start_pos\n",
    "        robot_moves = 0\n",
    "        obstacle_moves = 0\n",
    "        moves = []\n",
    "        while (u != goal_pos):\n",
    "            if (random.random() > robot_move_prob):\n",
    "                next_node = move_robot(g, u, obstacles)\n",
    "                if next_node == u:\n",
    "                    u = start_pos\n",
    "                    robot_moves = 0\n",
    "                    continue\n",
    "                moves.append(('r', f'{u}->{next_node}'))\n",
    "                u = next_node\n",
    "                robot_moves += 1\n",
    "                \n",
    "            else:\n",
    "                random_obstacle = random.sample(obstacles, k=1)[0]\n",
    "                # obstacle_moves += 1 if move_obstacle(g, random_obstacle, start_pos, goal_pos, obstacles, stuck_num=0) else 0\n",
    "                obstacle_moved, moved_to = move_obstacle(g, random_obstacle, start_pos, goal_pos, obstacles, stuck_num=0)\n",
    "                if obstacle_moved:\n",
    "                    moves.append(('o', f'{random_obstacle}->{moved_to}'))\n",
    "                    obstacle_moves += 1\n",
    "    \n",
    "        num_of_steps = robot_moves + obstacle_moves\n",
    "        length_per_iteration.append(num_of_steps)\n",
    "        # print(f'Path length for iteration {iteration+1}: {num_of_steps}')\n",
    "        # print(f'Best path of iteration {iteration}: {moves}')\n",
    "        if num_of_steps < min_length:\n",
    "            min_length = num_of_steps\n",
    "            min_iteration = iteration + 1\n",
    "            best_moves = copy.deepcopy(moves)\n",
    "\n",
    "        obstacles = copy.deepcopy(obstacles_start)\n",
    "\n",
    "    end_time = datetime.now()\n",
    "    print(f'The minimum length of {min_length} was found in iteration {min_iteration}')\n",
    "    print(f'Time it took to finish the search: {(end_time - start_time).total_seconds()}')\n",
    "    print('Best path of all iterations: ')\n",
    "    for i in range(len(best_moves)):\n",
    "        print(best_moves[i])\n",
    "\n",
    "    # plt.plot(range(1, num_iterations+1), length_per_iteration, color='xkcd:ruby', label='Best Weight')\n",
    "    # plt.xlabel('Iterations')\n",
    "    # plt.ylabel('Best Weight')\n",
    "    # plt.title('Shortest Number of Steps in Each Iteration')\n",
    "    # plt.legend()\n",
    "    # plt.xticks(np.linspace(1, 100, 10))\n",
    "    return length_per_iteration"
   ]
  },
  {
   "cell_type": "code",
   "execution_count": 56,
   "id": "4594a2b3-a162-43b4-949e-2a6a3c667e30",
   "metadata": {},
   "outputs": [],
   "source": [
    "# find_path(g, start_pos, goal_pos, obstacles, num_iterations=100)"
   ]
  }
 ],
 "metadata": {
  "kernelspec": {
   "display_name": "Python 3 (ipykernel)",
   "language": "python",
   "name": "python3"
  },
  "language_info": {
   "codemirror_mode": {
    "name": "ipython",
    "version": 3
   },
   "file_extension": ".py",
   "mimetype": "text/x-python",
   "name": "python",
   "nbconvert_exporter": "python",
   "pygments_lexer": "ipython3",
   "version": "3.11.6"
  }
 },
 "nbformat": 4,
 "nbformat_minor": 5
}
