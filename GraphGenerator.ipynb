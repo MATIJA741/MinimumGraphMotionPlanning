{
 "cells": [
  {
   "cell_type": "code",
   "execution_count": 5,
   "id": "a0e1b4c4-5a5e-44a8-bc7b-797f86f02d98",
   "metadata": {},
   "outputs": [],
   "source": [
    "import networkx as nx\n",
    "import math\n",
    "import random\n",
    "import numpy as np\n",
    "import copy\n",
    "from datetime import datetime\n",
    "from matplotlib import pyplot as plt"
   ]
  },
  {
   "cell_type": "code",
   "execution_count": 6,
   "id": "636dfb6f-3ee2-4c1f-9245-f53f8c28f992",
   "metadata": {},
   "outputs": [],
   "source": [
    "def build_graph():\n",
    "    num_nodes = 23\n",
    "    G = nx.connected_watts_strogatz_graph(num_nodes, 3, 1, 30)\n",
    "    \n",
    "    obstacle_upper_bound = num_nodes//2\n",
    "    num_obstacles = random.randrange(1, obstacle_upper_bound + 1)\n",
    "    obstacles = random.sample(range(num_nodes), num_obstacles)\n",
    "    obstacles_start = copy.deepcopy(obstacles)\n",
    "    \n",
    "    graph_map = {node: node in obstacles for node in G}\n",
    "    \n",
    "    potential_robot_positions = [node for node in graph_map if not graph_map[node]]\n",
    "    robot_goal_positions = random.sample(potential_robot_positions, k=2)\n",
    "    robot_pos, goal_pos = robot_goal_positions[0], robot_goal_positions[1]\n",
    "    \n",
    "    # Draw the graph with individual node colors\n",
    "    colors = ['xkcd:pinkish red' if node in obstacles else 'xkcd:ocean' for node in graph_map]\n",
    "    colors[robot_pos] = 'xkcd:greyish purple'\n",
    "    colors[goal_pos] = 'xkcd:yellowish green'\n",
    "    nx.draw(G, with_labels=True, node_color=colors, font_color='white')\n",
    "    \n",
    "    print(G, obstacles, robot_pos, goal_pos)\n",
    "    return G, obstacles, robot_pos, goal_pos"
   ]
  },
  {
   "cell_type": "code",
   "execution_count": null,
   "id": "447b56ac-b34d-4fd2-92c8-9b4c31bae990",
   "metadata": {},
   "outputs": [],
   "source": []
  }
 ],
 "metadata": {
  "kernelspec": {
   "display_name": "Python 3 (ipykernel)",
   "language": "python",
   "name": "python3"
  },
  "language_info": {
   "codemirror_mode": {
    "name": "ipython",
    "version": 3
   },
   "file_extension": ".py",
   "mimetype": "text/x-python",
   "name": "python",
   "nbconvert_exporter": "python",
   "pygments_lexer": "ipython3",
   "version": "3.10.12"
  }
 },
 "nbformat": 4,
 "nbformat_minor": 5
}
