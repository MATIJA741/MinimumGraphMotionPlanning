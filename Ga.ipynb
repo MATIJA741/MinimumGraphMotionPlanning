{
 "cells": [
  {
   "cell_type": "code",
   "execution_count": 18,
   "id": "8985f0b4-a3e3-4ccc-8055-76d80a085365",
   "metadata": {},
   "outputs": [],
   "source": [
    "import random"
   ]
  },
  {
   "cell_type": "code",
   "execution_count": 19,
   "id": "2dc83437-fd3f-4554-97c3-1fc3f295abbd",
   "metadata": {},
   "outputs": [],
   "source": [
    "def initialize(filename):\n",
    "    with open(filename, \"r\") as f:\n",
    "        num_users, num_resources = [int(x) for x in f.readline().split()]\n",
    "        cost = [[int(x) for x in f.readline().split()] for _ in range(num_users)]\n",
    "        facility_cost = [int(x) for x in f.readline().split()]\n",
    "    return facility_cost, cost"
   ]
  },
  {
   "cell_type": "code",
   "execution_count": 20,
   "id": "5cdda617-ec4a-451c-b5a5-d82c788a3185",
   "metadata": {},
   "outputs": [],
   "source": [
    "def is_feasible(solution):\n",
    "    return any(solution)"
   ]
  },
  {
   "cell_type": "code",
   "execution_count": 21,
   "id": "679a8adc-9323-4018-a9f1-44d21b3ca5fa",
   "metadata": {},
   "outputs": [],
   "source": [
    "class Individual:\n",
    "    def __init__(self, facility_cost, cost):\n",
    "        num_resources = len(facility_cost)\n",
    "        self.code = [random.random() < 0.5 for _ in range(num_resources)]\n",
    "        self.fitness = self.calc_fitness(facility_cost, cost)\n",
    "\n",
    "    def __lt__(self, other):\n",
    "        return self.fitness < other.fitness\n",
    "    \n",
    "    def calc_fitness(self, facility_cost, cost):\n",
    "        if not is_feasible(self.code):\n",
    "            return float('-inf') # moze suma svih cost i facility_cost\n",
    "\n",
    "        value = 0\n",
    "        for i, s in enumerate(self.code):\n",
    "            if s:\n",
    "                value += facility_cost[i]\n",
    "\n",
    "        for i in range(len(cost)):\n",
    "            min_cost = float('inf')\n",
    "            for j in range(len(cost[i])):\n",
    "                if self.code[j] and cost[i][j] < min_cost:\n",
    "                    min_cost = cost[i][j]\n",
    "            value += min_cost\n",
    "\n",
    "        return -value"
   ]
  },
  {
   "cell_type": "code",
   "execution_count": 22,
   "id": "3bc62db7-392e-4717-a207-8ba468b45f97",
   "metadata": {},
   "outputs": [],
   "source": [
    "def selection(population, tournament_size):\n",
    "    chosen = random.sample(population, tournament_size)\n",
    "    return max(chosen)"
   ]
  },
  {
   "cell_type": "code",
   "execution_count": 23,
   "id": "b1084150-7bd0-4f41-a958-2b094c5c4b79",
   "metadata": {},
   "outputs": [],
   "source": [
    "def crossover(parent1, parent2, child1, child2):\n",
    "    random_pos = random.randrange(0, len(parent1.code))\n",
    "    \n",
    "    child1.code[:random_pos] = parent1.code[:random_pos]\n",
    "    child1.code[random_pos:] = parent2.code[random_pos:]\n",
    "    \n",
    "    child2.code[:random_pos] = parent2.code[:random_pos]\n",
    "    child2.code[random_pos:] = parent1.code[random_pos:]"
   ]
  },
  {
   "cell_type": "code",
   "execution_count": 24,
   "id": "a92561fd-900e-43d4-a144-f7c0307817c1",
   "metadata": {},
   "outputs": [],
   "source": [
    "def mutation(individual, mutation_prob):\n",
    "    for i in range(len(individual.code)):\n",
    "        if random.random() < mutation_prob:\n",
    "            individual.code[i] = not individual.code[i]"
   ]
  },
  {
   "cell_type": "code",
   "execution_count": 28,
   "id": "7465de80-a7ab-47da-ba8a-df4c946181e7",
   "metadata": {},
   "outputs": [],
   "source": [
    "def ga(cost, facility_cost, population_size, num_generations, tournament_size, elitism_size, mutation_prob):\n",
    "    population = [Individual(facility_cost, cost) for _ in range(population_size)]\n",
    "    new_population = population.copy()\n",
    "    \n",
    "    for i in range(num_generations):\n",
    "        population.sort(reverse=True)\n",
    "        new_population[:elitism_size] = population[:elitism_size]\n",
    "        for j in range(elitism_size, population_size, 2):\n",
    "            parent1 = selection(population, tournament_size)\n",
    "            parent2 = selection(population, tournament_size)\n",
    "            \n",
    "            crossover(parent1, parent2, child1=new_population[j], child2=new_population[j+1])\n",
    "\n",
    "            mutation(new_population[j], mutation_prob)\n",
    "            mutation(new_population[j+1], mutation_prob)\n",
    "            \n",
    "            new_population[j].fitness = new_population[j].calc_fitness(facility_cost, cost)\n",
    "            new_population[j+1].fitness = new_population[j+1].calc_fitness(facility_cost, cost)\n",
    "        \n",
    "        population = new_population.copy()\n",
    "    return max(population)"
   ]
  },
  {
   "cell_type": "code",
   "execution_count": 29,
   "id": "be15e8f2-c171-42da-8c77-0f5352ae0885",
   "metadata": {},
   "outputs": [],
   "source": [
    "facility_cost, cost = initialize(\"ga.txt\")"
   ]
  },
  {
   "cell_type": "code",
   "execution_count": 38,
   "id": "1263a1b8-4842-4dee-9121-0a93e9c6e4a8",
   "metadata": {},
   "outputs": [],
   "source": [
    "best_individual = ga(\n",
    "    cost=cost,\n",
    "    facility_cost=facility_cost,\n",
    "    population_size=100,\n",
    "    num_generations=10,\n",
    "    tournament_size=7,\n",
    "    elitism_size=10,\n",
    "    mutation_prob=0.05,\n",
    "  )"
   ]
  },
  {
   "cell_type": "code",
   "execution_count": 39,
   "id": "6a13de35-4fca-45b3-9a90-86fe5872caee",
   "metadata": {},
   "outputs": [
    {
     "data": {
      "text/plain": [
       "34"
      ]
     },
     "execution_count": 39,
     "metadata": {},
     "output_type": "execute_result"
    }
   ],
   "source": [
    "-best_individual.fitness"
   ]
  },
  {
   "cell_type": "code",
   "execution_count": null,
   "id": "1377059a-d2c8-44cf-80d1-536a0cd18abe",
   "metadata": {},
   "outputs": [],
   "source": []
  }
 ],
 "metadata": {
  "kernelspec": {
   "display_name": "Python 3 (ipykernel)",
   "language": "python",
   "name": "python3"
  },
  "language_info": {
   "codemirror_mode": {
    "name": "ipython",
    "version": 3
   },
   "file_extension": ".py",
   "mimetype": "text/x-python",
   "name": "python",
   "nbconvert_exporter": "python",
   "pygments_lexer": "ipython3",
   "version": "3.10.12"
  }
 },
 "nbformat": 4,
 "nbformat_minor": 5
}
