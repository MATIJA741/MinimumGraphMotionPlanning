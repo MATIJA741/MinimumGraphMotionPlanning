{
 "cells": [
  {
   "cell_type": "code",
   "execution_count": 3,
   "id": "6d26379d-b9ae-436f-bcaf-d7be6e6d66dd",
   "metadata": {},
   "outputs": [
    {
     "name": "stdout",
     "output_type": "stream",
     "text": [
      "importing Jupyter notebook from GraphGenerator.ipynb\n"
     ]
    }
   ],
   "source": [
    "import networkx as nx\n",
    "import math\n",
    "import random\n",
    "import numpy as np\n",
    "import copy\n",
    "from datetime import datetime\n",
    "from matplotlib import pyplot as plt\n",
    "import sys\n",
    "import import_ipynb\n",
    "import GraphGenerator as gg"
   ]
  },
  {
   "cell_type": "code",
   "execution_count": 4,
   "id": "06e12364-9d89-4594-aee3-77461e91e466",
   "metadata": {},
   "outputs": [],
   "source": [
    "# gg.build_graph()"
   ]
  },
  {
   "cell_type": "code",
   "execution_count": 5,
   "id": "a011036b-aa94-4a27-862d-29497a672810",
   "metadata": {},
   "outputs": [],
   "source": [
    "def move_obstacle(g, node, start_pos, goal_pos, obstacles, stuck_num):\n",
    "    if node not in obstacles:\n",
    "        return False, None, None\n",
    "    ## segFault\n",
    "    if stuck_num == 50:\n",
    "        return False, node, None\n",
    "    \n",
    "    possible_moves = sorted([node for node in g[node] if node != goal_pos and node != start_pos])\n",
    "    # #recursion\n",
    "    if len(possible_moves) == 0:\n",
    "        return False, node, None\n",
    "    \n",
    "    chosen_move = random.sample(possible_moves, k=1)[0]\n",
    "    if(chosen_move in obstacles):\n",
    "        #recursion\n",
    "        return move_obstacle(g, chosen_move, start_pos, goal_pos, obstacles, stuck_num+1)\n",
    "        \n",
    "    \n",
    "    obstacles.remove(node)\n",
    "    obstacles.append(chosen_move)\n",
    "\n",
    "    # print(f'Obstacle moves: {node} -> {chosen_move}')\n",
    "    return True, chosen_move, node"
   ]
  },
  {
   "cell_type": "code",
   "execution_count": 6,
   "id": "44eb0e35-5263-4ea2-9fa9-3a2494cbfff1",
   "metadata": {},
   "outputs": [],
   "source": [
    "def BFS(g, start_pos, goal_pos, obstacles):\n",
    "    upcoming_nodes = [start_pos]\n",
    "    parents = {}\n",
    "    visited = set()\n",
    "    \n",
    "    while (len(upcoming_nodes) != 0):\n",
    "        u = upcoming_nodes.pop(0)\n",
    "        visited.add(u)\n",
    "        if (u == goal_pos):\n",
    "            return parents\n",
    "            \n",
    "        neighbors = [v for v in g[u] if v not in obstacles and v not in visited]\n",
    "        if len(neighbors) == 0:\n",
    "            continue\n",
    "            \n",
    "        for neighbor in neighbors:\n",
    "            upcoming_nodes.append(neighbor)\n",
    "            parents[neighbor] = u\n",
    "\n",
    "    return None"
   ]
  },
  {
   "cell_type": "code",
   "execution_count": 7,
   "id": "96ad0a50-3af5-4066-b719-2c6689989a2c",
   "metadata": {},
   "outputs": [],
   "source": [
    "def find_path(g, start_pos, goal_pos, obstacles, num_iterations):\n",
    "    min_length = float('inf')\n",
    "    min_iteration = float('inf')\n",
    "    obstacles_start = copy.deepcopy(obstacles)\n",
    "    start_time = datetime.now()\n",
    "\n",
    "    best_moves = []\n",
    "    length_per_iteration = []\n",
    "    obstacle_moves = []\n",
    "    best_obstacle_moves = []\n",
    "    break_indicator = 0\n",
    "\n",
    "    for iteration in range(num_iterations):\n",
    "        obstacle_moves.clear()\n",
    "        iter_start_time = datetime.now()\n",
    "        while (True):\n",
    "            path = []\n",
    "            parents = BFS(g, start_pos, goal_pos, obstacles)\n",
    "            current_node = goal_pos\n",
    "            if parents is not None:\n",
    "                while (current_node != start_pos):\n",
    "                    path.append(current_node)\n",
    "                    current_node = parents[current_node]\n",
    "                path.append(start_pos)\n",
    "                path.reverse()\n",
    "                break\n",
    "            else:\n",
    "                num_obstacles_to_move = max(len(obstacles)//4, 1)\n",
    "                obstacles_to_move = random.sample(obstacles, k=num_obstacles_to_move)\n",
    "                for obstacle in obstacles_to_move:\n",
    "                    obstacle_moved, moved_to, what_was_moved = move_obstacle(g, obstacle, start_pos, goal_pos, obstacles, stuck_num=0)\n",
    "                    if (obstacle_moved):\n",
    "                        obstacle_moves.append(f'{what_was_moved}->{moved_to}')\n",
    "                        \n",
    "            if (datetime.now() - iter_start_time).total_seconds() > 0.5:\n",
    "                print('Preskocena iteracija')\n",
    "                break_indicator = 1\n",
    "                break\n",
    "        if break_indicator:\n",
    "            break_indicator = 0\n",
    "            continue\n",
    "        num_of_steps = len(path)-1 + len(obstacle_moves)\n",
    "        length_per_iteration.append(num_of_steps)\n",
    "        # print(f'Path length for iteration {iteration+1}: {num_of_steps}')\n",
    "        if num_of_steps < min_length:\n",
    "            min_length = num_of_steps\n",
    "            min_iteration = iteration + 1\n",
    "            best_moves = copy.deepcopy(path)\n",
    "            best_obstacle_moves = copy.deepcopy(obstacle_moves)\n",
    "        \n",
    "        obstacles = copy.deepcopy(obstacles_start)\n",
    "\n",
    "    ###\n",
    "    end_time = datetime.now()\n",
    "    total_time = (end_time - start_time).total_seconds()\n",
    "    \n",
    "    solution_metrics = {\n",
    "        \"best_value\": min_length,\n",
    "        \"time\": total_time,\n",
    "        \"obstacles_moved\": obstacle_moves,\n",
    "        \"best_path\": best_moves,\n",
    "        \"solution_values\": length_per_iteration\n",
    "    }\n",
    "    \n",
    "    print(f'The minimum length of {solution_metrics[\"best_value\"]} was found in iteration {min_iteration}')\n",
    "    print(f'Time it took to finish the search: {solution_metrics[\"time\"]}')\n",
    "    print(f'Obstacles moved: {solution_metrics[\"obstacles_moved\"]}')\n",
    "    print(f'Best path of all iterations: {solution_metrics[\"best_path\"]}')\n",
    "    \n",
    "#     for i in range(len(best_obstacle_moves)):\n",
    "#         print(best_obstacle_moves[i])\n",
    "\n",
    "    return solution_metrics"
   ]
  },
  {
   "cell_type": "code",
   "execution_count": 8,
   "id": "6bb7d64b-5868-48ab-be15-7acc94820fa9",
   "metadata": {},
   "outputs": [],
   "source": [
    "# find_path(G, robot_pos, goal_pos, obstacles, num_iterations=100)"
   ]
  },
  {
   "cell_type": "code",
   "execution_count": null,
   "id": "08dc33bc-79c3-403d-9d93-597af3baa873",
   "metadata": {},
   "outputs": [],
   "source": []
  },
  {
   "cell_type": "code",
   "execution_count": null,
   "id": "41dbfd81-964e-43b6-932b-4fe684bcaa89",
   "metadata": {},
   "outputs": [],
   "source": []
  }
 ],
 "metadata": {
  "kernelspec": {
   "display_name": "Python 3 (ipykernel)",
   "language": "python",
   "name": "python3"
  },
  "language_info": {
   "codemirror_mode": {
    "name": "ipython",
    "version": 3
   },
   "file_extension": ".py",
   "mimetype": "text/x-python",
   "name": "python",
   "nbconvert_exporter": "python",
   "pygments_lexer": "ipython3",
   "version": "3.10.12"
  }
 },
 "nbformat": 4,
 "nbformat_minor": 5
}
